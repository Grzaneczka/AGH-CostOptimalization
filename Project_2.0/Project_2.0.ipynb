{
 "cells": [
  {
   "cell_type": "markdown",
   "metadata": {},
   "source": [
    "# FOODTRACK Z MAKARONEM \n",
    "\n",
    "W projekcie będzie rozpatrywana sytuacja dla małego przedsiębiorswa, która posiada foodtruck z makaronami "
   ]
  },
  {
   "cell_type": "code",
   "execution_count": 1,
   "metadata": {},
   "outputs": [],
   "source": [
    "import random"
   ]
  },
  {
   "cell_type": "markdown",
   "metadata": {},
   "source": [
    "### CHARAKTERYSTYKA\n",
    "\n",
    "Przedsiębiorstwo produkuje sosy w 4 smakach\n",
    "    * Sos Bolosegne -> 10 zł\n",
    "    * Sos Carbonara -> 12 zł\n",
    "    * Sos Spinachi & Gorgonozola -> 11zł\n",
    "    * Sos Brocoli -> 13 zł\n",
    "\n",
    "Makarony są sprzedawane w dwóch rozmiarach\n",
    "    * małym -> cena dania * 1 zł\n",
    "    * dużym -> cena dania * 1.5 zł \n",
    "\n",
    "Makaron może posiadać dodatki np. Parmezan, Dodatkowe Oregano itp. Jaki kolwiek dodatek kosztuje 2 zł\n",
    "\n",
    "\n",
    "Dodatkowo można zmienić rodzaj makaronu, podstawowy to spagetti\n",
    "    * tagliatelle -> +2 zł\n",
    "    * penne -> +1 zł \n",
    "    * farfelle -> +1 zł"
   ]
  },
  {
   "cell_type": "code",
   "execution_count": 2,
   "metadata": {},
   "outputs": [],
   "source": [
    "PRICE_SAUCES = {\n",
    "    \"Sos Bolosegne\" : 10,\n",
    "    \"Sos Carbonara\" : 12,\n",
    "    \"Sos Spinachi & Gorgonozola\" : 11,\n",
    "    \"Sos Brocoli\" : 13\n",
    "}\n",
    "\n",
    "PRICE_SIZES = {\n",
    "    \"Mały\" : 1,\n",
    "    \"DużY\" : 1.5\n",
    "}\n",
    "\n",
    "PRICE_ADDITIONS = {\n",
    "    \"Brak dodatków\" : 0,\n",
    "    \"Dodatki\" : 2,\n",
    "}\n",
    "\n",
    "PRICE_PASTAS = {\n",
    "    \"Spagetti\" : 0,\n",
    "    \"Tagliatelle\" : 2,\n",
    "    \"Penne\" : 1,\n",
    "    \"Farfelle\" : 1\n",
    "}"
   ]
  },
  {
   "cell_type": "markdown",
   "metadata": {},
   "source": [
    "### POPYT\n",
    "\n",
    "      Popyt na małe opakownie               Spagetti\tTagliatelle \t  Penne \t   Farfelle\n",
    "    Sos Bolosegne \t                          10\t        7\t         11\t        10\n",
    "    Sos Bolosegne  z dodatkami\t               8\t        5\t          9\t         8\n",
    "    Sos Carbonara\t                            8\t        5\t          9\t         8\n",
    "    Sos Carbonara z dodatkami \t               6\t        3\t          7             6\n",
    "    Sos Spinachi & Gorgonozola\t               7\t        4\t          8             7\n",
    "    Sos Spinachi & Gorgonozola z dodatkami\t   5\t        2\t          6\t         5\n",
    "    Sos Brocoli\t                              5\t        2\t          6\t         5\n",
    "    Sos Brocoli z dodatkami\t                  3\t        0              4\t         3\n",
    "\n",
    "\n",
    "Popyt na duże opakowanie o 1/2 mniejszy "
   ]
  },
  {
   "cell_type": "code",
   "execution_count": 3,
   "metadata": {},
   "outputs": [
    {
     "name": "stdout",
     "output_type": "stream",
     "text": [
      "[10, 7, 11, 10]\n",
      "[8, 5, 9, 8]\n",
      "[8, 5, 9, 8]\n",
      "[6, 3, 7, 6]\n",
      "[7, 4, 8, 7]\n",
      "[5, 2, 6, 5]\n",
      "[5, 2, 6, 5]\n",
      "[3, 0, 4, 3]\n"
     ]
    }
   ],
   "source": [
    "DEMAND = [[10, 7, 11, 10], [8, 5, 9, 8], [8, 5, 9, 8], [6,3, 7, 6], [7, 4, 8, 7], [5, 2, 6, 5], [5, 2, 6, 5],[3, 0, 4,3]]\n",
    "\n",
    "print(*DEMAND, sep = '\\n')"
   ]
  },
  {
   "cell_type": "markdown",
   "metadata": {},
   "source": [
    "### KODOWANIE CECH \n",
    "\n",
    "Sos Bolosegne -> 00  \n",
    "Sos Carbonara -> 01  \n",
    "Sos Spinachi & Gorgonozola -> 10  \n",
    "Sos Brocoli -> 11  \n",
    "\n",
    "Brak dodatków -> 0  \n",
    "Dodatki -> 1  \n",
    "\n",
    "Mały rozmiar -> 0  \n",
    "Duży rozmier -> 1   \n",
    "\n",
    "Spagetti -> 00  \n",
    "Tagliatelle -> 01  \n",
    "Penne -> 10  \n",
    "Farfelle -> 11  \n",
    "\n",
    "NP => 100110 -> Spinachi & Gorgonzola bez dodatków średniego rozmiarów na mararonie Penne\n",
    "\n",
    "Możliwości różnych marakonóœ jest = 4 * 2 * 2 * 4 = 64"
   ]
  },
  {
   "cell_type": "code",
   "execution_count": 4,
   "metadata": {},
   "outputs": [],
   "source": [
    "SAUCES = {\n",
    "    \"00\" : \"Sos Bolosegne\",\n",
    "    \"01\" : \"Sos Carbonara\",\n",
    "    \"10\" : \"Sos Spinachi & Gorgonozola\",\n",
    "    \"11\" : \"Sos Brocoli\"\n",
    "}\n",
    "\n",
    "ADDITIONS = {\n",
    "    \"0\": \"Brak dodatków\",\n",
    "    \"1\" : \"Dodatki\"\n",
    "}\n",
    "\n",
    "SIZES = {\n",
    "   \"0\" : \"Mały\",\n",
    "   \"1\" : \"DużY\"\n",
    "}\n",
    "\n",
    "PASTAS = {\n",
    "    \"00\" : \"Spagetti\",\n",
    "    \"01\" : \"Tagliatelle\",\n",
    "    \"10\" : \"Penne\",\n",
    "    \"11\" : \"Farfelle\"\n",
    "}"
   ]
  },
  {
   "cell_type": "markdown",
   "metadata": {},
   "source": [
    "## FUNKCJA CELU \n",
    "Maxymalizacja zysków = popyt * cena"
   ]
  },
  {
   "cell_type": "markdown",
   "metadata": {},
   "source": [
    "funkcja_celu = popyt_produktu * cena_produktu"
   ]
  },
  {
   "cell_type": "code",
   "execution_count": 5,
   "metadata": {},
   "outputs": [],
   "source": [
    "def bin_to_int(obj):\n",
    "    \n",
    "    l = int(obj)\n",
    "    num = 0\n",
    "    i = 1\n",
    "    \n",
    "    while(l>0):\n",
    "        num += l%10 * i\n",
    "        l /= 10\n",
    "        i *= 2\n",
    "    \n",
    "    return int(num)"
   ]
  },
  {
   "cell_type": "code",
   "execution_count": 6,
   "metadata": {},
   "outputs": [],
   "source": [
    "def fitness(individual):\n",
    "    \n",
    "    sauce = individual[0] + individual[1]\n",
    "    addition = individual[2]\n",
    "    size = individual[3]\n",
    "    pasta = individual[4] + individual[5]\n",
    "    \n",
    "    product_price = (PRICE_SAUCES[SAUCES[sauce]] + PRICE_ADDITIONS[ADDITIONS[addition]]\n",
    "                     + PRICE_PASTAS[PASTAS[pasta]]) * PRICE_SIZES[SIZES[size]]  \n",
    "    \n",
    "    w = bin_to_int(sauce) * 2 + bin_to_int(addition)\n",
    "    k = bin_to_int(pasta)\n",
    "\n",
    "    if size == \"1\":\n",
    "        demand_product = DEMAND[w][k] * 1/2\n",
    "    else : \n",
    "        demand_product = DEMAND[w][k]\n",
    "    \n",
    "    return product_price * demand_product"
   ]
  },
  {
   "cell_type": "markdown",
   "metadata": {},
   "source": [
    "## MUTACJA"
   ]
  },
  {
   "cell_type": "code",
   "execution_count": 7,
   "metadata": {},
   "outputs": [],
   "source": [
    "def mutate_population(population):\n",
    "    for x in population:\n",
    "        for i in range(len(x)):\n",
    "            if random.uniform(0, 1) < 0.05:\n",
    "                x[i] = str(random.randint(0,1))\n",
    "    return population"
   ]
  },
  {
   "cell_type": "markdown",
   "metadata": {},
   "source": [
    "## TWORZENIE NOWEJ POPULACJI"
   ]
  },
  {
   "cell_type": "code",
   "execution_count": 8,
   "metadata": {},
   "outputs": [],
   "source": [
    "def new_population(population, k=4):\n",
    "    \n",
    "    fitnesses = [fitness(x) for x in population]\n",
    "    parts = [x / sum(fitnesses) for x in fitnesses]\n",
    "    parts_sum = [sum(parts[:i+1]) for i in range(len(parts))]\n",
    "    \n",
    "    # Losowanie k nowych osobników\n",
    "    result = []\n",
    "    for _ in range(k):\n",
    "        r = random.uniform(0, 1)\n",
    "        \n",
    "        # Szukanie najmniejszej większej od r\n",
    "        for index in range(len(parts_sum)):\n",
    "            if r < parts_sum[index]:\n",
    "                result.append(population[index])\n",
    "                break\n",
    "                \n",
    "    return result"
   ]
  },
  {
   "cell_type": "markdown",
   "metadata": {},
   "source": [
    "## KRZYŻOWANIE"
   ]
  },
  {
   "cell_type": "code",
   "execution_count": 9,
   "metadata": {},
   "outputs": [],
   "source": [
    "def crossing(a, b):\n",
    "    assert len(a) == len(b)\n",
    "    \n",
    "    r = random.randint(1, len(a)-1)\n",
    "    \n",
    "    return a[:r] + b[r:]"
   ]
  },
  {
   "cell_type": "code",
   "execution_count": 10,
   "metadata": {},
   "outputs": [],
   "source": [
    "def cross_population(population):\n",
    "    result = population.copy()\n",
    "    \n",
    "    for i in range(len(result)):\n",
    "        \n",
    "        if random.randint(0, 1):\n",
    "            \n",
    "            b = random.choice(population[:i] + population[i+1:])\n",
    "            result[i] = crossing(population[i], b)\n",
    "    \n",
    "    return result"
   ]
  },
  {
   "cell_type": "markdown",
   "metadata": {},
   "source": [
    "## KOD GŁÓWNY"
   ]
  },
  {
   "cell_type": "code",
   "execution_count": 11,
   "metadata": {},
   "outputs": [],
   "source": [
    "def best_individual(population):\n",
    "    return max(population, key=fitness)"
   ]
  },
  {
   "cell_type": "code",
   "execution_count": 13,
   "metadata": {},
   "outputs": [
    {
     "name": "stdout",
     "output_type": "stream",
     "text": [
      "['0', '0', '0', '0', '1', '0']\n",
      "121\n",
      "Sos Bolosegne Brak dodatków Mały Penne\n"
     ]
    }
   ],
   "source": [
    "population = []\n",
    "\n",
    "# Losujemy pierwsza populacje\n",
    "for i in range(4):\n",
    "    individual = []\n",
    "\n",
    "    while len(individual) < 6:\n",
    "        individual.append(str(random.randint(0,1)))\n",
    "\n",
    "    population.append(individual)\n",
    "\n",
    "best = best_individual(population)\n",
    "for i in range(1000):\n",
    "    population = new_population(population)\n",
    "    population = cross_population(population)\n",
    "    population = mutate_population(population)\n",
    "    \n",
    "    new_best = best_individual(population)\n",
    "    # print(f'Best in population {i+1}: ({fitness(new_best)}) {new_best}')\n",
    "    if fitness(new_best) > fitness(best):\n",
    "        best = new_best\n",
    "\n",
    "print(best)\n",
    "print(fitness(best))\n",
    "print(SAUCES[best[0] + best[1]], ADDITIONS[best[2]], SIZES[best[3]], PASTAS[best[4] + best[5]])"
   ]
  }
 ],
 "metadata": {
  "kernelspec": {
   "display_name": "Python 3",
   "language": "python",
   "name": "python3"
  },
  "language_info": {
   "codemirror_mode": {
    "name": "ipython",
    "version": 3
   },
   "file_extension": ".py",
   "mimetype": "text/x-python",
   "name": "python",
   "nbconvert_exporter": "python",
   "pygments_lexer": "ipython3",
   "version": "3.7.3"
  }
 },
 "nbformat": 4,
 "nbformat_minor": 2
}
